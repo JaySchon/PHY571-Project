{
 "cells": [
  {
   "cell_type": "code",
   "execution_count": 1,
   "id": "8c1a81e0",
   "metadata": {},
   "outputs": [],
   "source": [
    "# This file is aimed to test the 2D Ising model with four body interaction terms using restricted SLMC method.\n",
    "\n",
    "#import libraries\n",
    "import numpy as np\n",
    "import numpy.random as rnd\n",
    "import matplotlib.pyplot as plt\n",
    "from Configuration import Configuration\n",
    "from Hamiltonian import first_NN_interaction, second_NN_interaction, third_NN_interaction\n",
    "from LocalUpdate import LocalUpdate\n",
    "from RestrictedSelfLearningUpdate import RestrictedSelfLearningUpdate\n",
    "import itertools\n",
    "from sklearn import linear_model\n",
    "from SLMC_Training_Lib import Make_Samples_Local, Make_Samples_Restricted_SelfLearning, train_eff_Hamil, restricted_self_optimization\n"
   ]
  },
  {
   "cell_type": "code",
   "execution_count": null,
   "id": "6a728193",
   "metadata": {},
   "outputs": [],
   "source": [
    "# T > Tc, train some samples using Local Update Method, T = 5\n",
    "L = 20\n",
    "J = 1.\n",
    "K = 0.2\n",
    "T = 5\n",
    "Nsamples = 3 # modified later\n",
    "Nsteps = 10000 # trail number, modified later\n",
    "n = 1\n",
    "samples = Make_Samples_Local(L, J, K, T, Nsamples, Nsteps)\n",
    "print(samples)\n",
    "eff_param = train_eff_Hamil(samples, n)\n",
    "print(eff_param)"
   ]
  },
  {
   "cell_type": "code",
   "execution_count": null,
   "id": "a1a4bcb4",
   "metadata": {},
   "outputs": [],
   "source": [
    "# T > Tc, train some samples using Local Update Method, T = 5\n",
    "L = 20\n",
    "J = 1.\n",
    "K = 0.2\n",
    "T = 5\n",
    "Nsamples = 3 #modified later\n",
    "Nsteps = 10000 # trail number, modified later\n",
    "n = 3\n",
    "samples = Make_Samples_Local(L, J, K, T, Nsamples, Nsteps)\n",
    "eff_param = train_eff_Hamil(samples, n)\n",
    "print(eff_param)"
   ]
  },
  {
   "cell_type": "code",
   "execution_count": 2,
   "id": "af4e0ef1",
   "metadata": {},
   "outputs": [
    {
     "name": "stdout",
     "output_type": "stream",
     "text": [
      "Sample 1: 33.33 percent done.\n",
      "Sample 2: 66.67 percent done.\n",
      "Sample 3: 100.00 percent done.\n",
      "Iteration 1, 100.00 percent done.\n",
      "[9.31898734 0.90822785]\n"
     ]
    }
   ],
   "source": [
    "# T = Tc, use the effective Hamiltonian to get more samples, and reobtain effective Hamiltonian iteratively.\n",
    "# We will get optimized effective Hamiltonian in the end.\n",
    "# eff_param = [53.43157895,  1.37368421]\n",
    "L  = 20\n",
    "J = 1.\n",
    "K = 0.2\n",
    "T = 2.5\n",
    "Nsamples =3 \n",
    "Nsteps = 3000\n",
    "restriction = 10\n",
    "n = 1\n",
    "\n",
    "# Set iteration step\n",
    "Iter = 1 # modified later\n",
    "print(restricted_self_optimization(Iter, L, J, K, T, Nsamples, Nsteps, eff_param, restriction))"
   ]
  },
  {
   "cell_type": "code",
   "execution_count": 4,
   "id": "0d51d033",
   "metadata": {
    "scrolled": true
   },
   "outputs": [
    {
     "name": "stdout",
     "output_type": "stream",
     "text": [
      "7.311576843261719\n",
      "[-0.005  0.035  0.04   0.03   0.035 -0.02  -0.02   0.03   0.055  0.005\n",
      "  0.005 -0.01   0.     0.     0.     0.     0.    -0.01  -0.02  -0.015\n",
      " -0.02  -0.02   0.005 -0.025 -0.045 -0.04  -0.035 -0.045 -0.04  -0.015\n",
      " -0.015 -0.015 -0.015 -0.02  -0.025 -0.03  -0.035 -0.04  -0.04  -0.03\n",
      " -0.05   0.    -0.015 -0.01  -0.01   0.02   0.015 -0.01  -0.01  -0.01\n",
      " -0.005 -0.005 -0.005 -0.01  -0.01  -0.015 -0.015 -0.01   0.015  0.015\n",
      " -0.01  -0.005 -0.02  -0.02  -0.015 -0.05  -0.045 -0.045 -0.045 -0.025\n",
      " -0.05  -0.05  -0.035  0.     0.    -0.03  -0.035 -0.015 -0.01   0.025\n",
      "  0.04   0.045  0.065  0.06   0.06   0.015  0.01   0.02   0.005  0.005\n",
      "  0.005  0.01  -0.035 -0.035 -0.03  -0.005 -0.01   0.015 -0.025 -0.03\n",
      " -0.03  -0.005 -0.005  0.02   0.01   0.01   0.01   0.01   0.01   0.005\n",
      "  0.    -0.005 -0.01  -0.01  -0.015 -0.015  0.025  0.025  0.03   0.025\n",
      "  0.025  0.02   0.02   0.02   0.02   0.025  0.025  0.02   0.02   0.02\n",
      "  0.02   0.02   0.025  0.025  0.015  0.015  0.015  0.015  0.015  0.02\n",
      "  0.015  0.01   0.005 -0.01  -0.01  -0.01  -0.015 -0.015 -0.015 -0.015\n",
      " -0.045  0.    -0.005 -0.005  0.02   0.02   0.02   0.02   0.02   0.02\n",
      "  0.     0.005  0.005  0.     0.045  0.05   0.05   0.045  0.045  0.07\n",
      "  0.07   0.07   0.07   0.07   0.075  0.075  0.075  0.075  0.075  0.075\n",
      "  0.07   0.07   0.065  0.075  0.075  0.07   0.075  0.07   0.075  0.07\n",
      "  0.07   0.07   0.065  0.065  0.07   0.065  0.065  0.07   0.035  0.04\n",
      "  0.035  0.03   0.03   0.06   0.06   0.05   0.025  0.03   0.03   0.06\n",
      "  0.095  0.095  0.095  0.095  0.02   0.015  0.02   0.     0.    -0.005\n",
      " -0.01  -0.01  -0.01  -0.01  -0.03  -0.035 -0.035 -0.04  -0.045 -0.045\n",
      " -0.04  -0.03  -0.035 -0.035 -0.04  -0.035 -0.04  -0.045 -0.04  -0.04\n",
      " -0.045 -0.045 -0.045 -0.035 -0.03  -0.03  -0.025 -0.035 -0.04  -0.015\n",
      " -0.015 -0.02  -0.02  -0.045  0.03   0.035 -0.005 -0.005 -0.025 -0.03\n",
      " -0.035 -0.03   0.02  -0.045 -0.045 -0.035 -0.04  -0.03  -0.02  -0.035\n",
      " -0.04  -0.04  -0.04  -0.04  -0.045 -0.05  -0.05  -0.045 -0.045 -0.05\n",
      " -0.05  -0.045 -0.04  -0.04  -0.04  -0.045 -0.045 -0.045 -0.01  -0.01\n",
      " -0.01   0.035  0.04   0.015  0.065  0.07   0.065  0.07   0.07   0.07\n",
      "  0.065  0.065  0.065  0.065  0.02   0.02   0.01   0.015  0.015  0.015\n",
      "  0.01   0.015  0.01   0.01   0.01  -0.02   0.01   0.01   0.01   0.025\n",
      "  0.005  0.005  0.01  -0.02  -0.02  -0.03  -0.02  -0.015 -0.015 -0.01\n",
      " -0.05  -0.045 -0.045 -0.05  -0.025 -0.02  -0.025 -0.05  -0.05  -0.05\n",
      " -0.05  -0.05  -0.05   0.01   0.01   0.005  0.005  0.005 -0.005  0.02\n",
      "  0.015 -0.035 -0.03  -0.03  -0.025 -0.005 -0.005 -0.005 -0.005 -0.005\n",
      " -0.015 -0.02  -0.03  -0.03  -0.03  -0.065 -0.06  -0.045 -0.035 -0.005\n",
      " -0.01  -0.015 -0.015  0.015  0.01   0.035  0.04  -0.025 -0.02  -0.015\n",
      " -0.015 -0.015 -0.01  -0.01  -0.015 -0.01   0.02   0.03   0.01   0.005\n",
      "  0.005  0.005  0.     0.    -0.03  -0.03  -0.025 -0.005  0.     0.\n",
      " -0.01  -0.01  -0.01  -0.01  -0.01  -0.01   0.     0.005  0.005  0.01\n",
      "  0.015  0.015  0.005  0.01  -0.02  -0.02  -0.02  -0.03  -0.025 -0.035\n",
      " -0.04  -0.035 -0.04  -0.04  -0.045 -0.045 -0.07  -0.03  -0.04  -0.035\n",
      " -0.035 -0.035 -0.03  -0.025 -0.05  -0.06  -0.055 -0.015 -0.02  -0.02\n",
      " -0.025 -0.03  -0.03  -0.025 -0.025 -0.03  -0.03  -0.03  -0.02  -0.02\n",
      " -0.02  -0.025 -0.015 -0.015 -0.015 -0.01  -0.005  0.02  -0.005 -0.005\n",
      " -0.005 -0.005 -0.005  0.    -0.005 -0.005 -0.06  -0.06  -0.055 -0.06\n",
      " -0.06  -0.05  -0.045 -0.045 -0.025 -0.02  -0.025 -0.03  -0.03  -0.03\n",
      " -0.03  -0.03  -0.045 -0.03  -0.03  -0.03  -0.045 -0.04  -0.03  -0.025\n",
      "  0.015  0.01   0.015  0.02   0.01   0.005  0.    -0.01   0.01   0.015\n",
      " -0.01  -0.01  -0.015 -0.02   0.02   0.025  0.03   0.035  0.035  0.03\n",
      "  0.06   0.055  0.055  0.005 -0.015 -0.015 -0.03  -0.03  -0.035 -0.035\n",
      " -0.04  -0.04  -0.04  -0.05  -0.055 -0.055 -0.055 -0.055 -0.035 -0.02\n",
      " -0.02  -0.02  -0.01  -0.005 -0.005 -0.005 -0.005 -0.01  -0.01  -0.01\n",
      " -0.01  -0.015 -0.02  -0.025 -0.03  -0.03   0.01   0.01   0.01   0.015\n",
      "  0.015  0.015  0.015  0.01   0.01   0.01   0.01   0.01   0.005  0.005\n",
      "  0.035  0.02   0.035  0.035  0.    -0.01  -0.015 -0.015 -0.025 -0.02\n",
      " -0.015 -0.015 -0.015 -0.02  -0.02  -0.015 -0.015  0.05  -0.02   0.03\n",
      "  0.025  0.02   0.02   0.02   0.02   0.035 -0.015  0.005  0.01   0.015\n",
      "  0.02   0.03   0.03   0.03   0.03   0.03   0.04   0.045  0.045  0.045\n",
      " -0.02  -0.02  -0.025 -0.03  -0.025 -0.025 -0.025 -0.03  -0.03  -0.03\n",
      " -0.03   0.05   0.02   0.02   0.02   0.02   0.02   0.035  0.02  -0.01\n",
      " -0.01  -0.01  -0.01  -0.01  -0.04  -0.035 -0.025 -0.03  -0.03  -0.03\n",
      " -0.03  -0.02   0.015  0.015  0.005  0.01   0.015  0.015  0.015  0.015\n",
      "  0.02   0.025  0.     0.     0.     0.     0.     0.015  0.02   0.02\n",
      "  0.02   0.01   0.03   0.03   0.03   0.03   0.04   0.025  0.025  0.\n",
      "  0.    -0.025 -0.005 -0.005 -0.005  0.03   0.03   0.03   0.035  0.03\n",
      "  0.     0.     0.02   0.015  0.03   0.005  0.02   0.025  0.025  0.025\n",
      "  0.025  0.03   0.03   0.025  0.02   0.015  0.01   0.01   0.01   0.01\n",
      "  0.005  0.03   0.025  0.025  0.02   0.015  0.01  -0.05  -0.055 -0.055\n",
      " -0.055 -0.06  -0.005 -0.01  -0.015 -0.015 -0.03  -0.01  -0.01  -0.065\n",
      " -0.055 -0.04  -0.035 -0.035 -0.03  -0.04  -0.045 -0.04   0.035  0.04\n",
      "  0.015  0.02   0.025  0.025  0.025  0.02   0.02   0.02   0.045  0.01\n",
      "  0.01   0.035  0.04   0.085  0.035  0.015  0.015  0.05   0.05   0.045\n",
      "  0.04   0.04   0.04   0.01   0.01   0.01   0.01   0.005  0.005  0.035\n",
      "  0.04   0.04   0.04   0.035  0.005  0.01   0.015  0.015  0.015  0.015\n",
      "  0.015 -0.02  -0.015 -0.015 -0.01  -0.005  0.     0.005  0.005  0.005\n",
      "  0.005  0.005  0.02   0.02   0.02   0.01   0.01   0.005  0.005  0.005\n",
      "  0.     0.     0.     0.     0.    -0.01  -0.015 -0.01  -0.01  -0.01\n",
      " -0.01  -0.005 -0.005 -0.005 -0.02   0.01   0.005  0.01   0.005  0.005\n",
      "  0.01  -0.005 -0.005  0.     0.     0.005  0.     0.     0.     0.\n",
      " -0.01  -0.01  -0.01  -0.015 -0.02  -0.02  -0.02  -0.015 -0.035 -0.04\n",
      " -0.035 -0.04  -0.04  -0.06  -0.06  -0.055 -0.06  -0.065 -0.06  -0.06\n",
      " -0.025 -0.02  -0.015 -0.015 -0.02  -0.02  -0.015 -0.01  -0.01  -0.045\n",
      " -0.045 -0.045 -0.05  -0.05  -0.05  -0.055 -0.02  -0.025 -0.03  -0.03\n",
      " -0.035 -0.045 -0.045 -0.035 -0.025  0.015  0.015  0.015  0.01   0.03\n",
      "  0.02   0.02   0.02   0.025  0.01  -0.035 -0.04  -0.04  -0.04  -0.04\n",
      " -0.04  -0.04  -0.03  -0.02  -0.02  -0.025 -0.025 -0.005 -0.015 -0.015\n",
      " -0.015  0.01   0.005  0.    -0.03  -0.03  -0.03  -0.025  0.015  0.015\n",
      "  0.01   0.005  0.015  0.015  0.015 -0.02  -0.015 -0.015  0.01  -0.005\n",
      " -0.005  0.    -0.005 -0.025 -0.005 -0.005 -0.005 -0.005 -0.01  -0.025\n",
      " -0.025 -0.025  0.02   0.02   0.02   0.02   0.03   0.025  0.03   0.03\n",
      "  0.025  0.03   0.04   0.045 -0.015  0.03   0.05   0.    -0.01  -0.01\n",
      " -0.01   0.02   0.02   0.02   0.005  0.02   0.02   0.02  -0.02  -0.025\n",
      " -0.025 -0.025 -0.025 -0.02  -0.015 -0.015 -0.01  -0.01  -0.025 -0.03\n",
      "  0.     0.    -0.005 -0.005  0.02   0.02   0.01  -0.02  -0.025 -0.025\n",
      " -0.025 -0.02  -0.02  -0.01   0.03   0.015 -0.065 -0.02  -0.025 -0.025\n",
      "  0.01  -0.005  0.     0.035 -0.005 -0.005 -0.01   0.055  0.06   0.01\n",
      "  0.005  0.025  0.025  0.015  0.02   0.025  0.05   0.02   0.015  0.015\n",
      "  0.035  0.035  0.035  0.035  0.04   0.04   0.045  0.04   0.035  0.035]\n"
     ]
    },
    {
     "data": {
      "text/plain": [
       "(-1.0, 1.0)"
      ]
     },
     "execution_count": 4,
     "metadata": {},
     "output_type": "execute_result"
    },
    {
     "data": {
      "image/png": "[encoded data removed]",
      "text/plain": [
       "<Figure size 432x288 with 1 Axes>"
      ]
     },
     "metadata": {
      "needs_background": "light"
     },
     "output_type": "display_data"
    }
   ],
   "source": [
    "# Use the optimized effective Hamiltonian in retricted SLMC update\n",
    "\n",
    "# Magnetization vs Step\n",
    "L = 20\n",
    "J = 1\n",
    "K = 0.2\n",
    "T = 2.5\n",
    "restriction = 10\n",
    "spins = rnd.choice([-1,1],size = (L, L))\n",
    "\n",
    "import time\n",
    "t1 = time.time()\n",
    "n_cycles = 1000\n",
    "\n",
    "\n",
    "mr = np.zeros(n_cycles)\n",
    "\n",
    "# Monte Carlo\n",
    "for n in range(n_cycles):\n",
    "    update = RestrictedSelfLearningUpdate(spins, J, K, T, eff_param, restriction)\n",
    "    spins = update.Restricted_SLMC_Update()\n",
    "    config = Configuration(spins, L, J, K, T)\n",
    "    mr[n] = (config.magnetization)\n",
    "mr /= float(L**2)\n",
    "t2 = time.time()\n",
    "\n",
    "print(t2-t1)\n",
    "print(mr)\n",
    "plt.plot(mr, '-')\n",
    "plt.title(\"Magnetization\", fontsize=25)\n",
    "plt.xlabel(\"$t$\", fontsize=20)\n",
    "plt.ylabel(\"$m$\", fontsize=20)\n",
    "plt.ylim(-1,1)"
   ]
  },
  {
   "cell_type": "code",
   "execution_count": 6,
   "id": "3f1c208a",
   "metadata": {},
   "outputs": [],
   "source": [
    "# autocorrelation fitting\n",
    "\n",
    "L = 20\n",
    "J = 1\n",
    "K = 0.2\n",
    "T = 2.5\n",
    "\n",
    "nt = 300\n",
    "av_m = 0.0\n",
    "av_correl = np.zeros([nt])\n",
    "previous_m = []\n",
    "\n",
    "n_cycles = 10000\n",
    "n_warmup = 1000\n",
    "\n",
    "# Monte Carlo\n",
    "for n in range(n_cycles + n_warmup + nt):\n",
    "    \n",
    "    update = RestrictedSelfLearningUpdate(spins, J, K, T, eff_param, restriction)\n",
    "    spins = update.Restricted_SLMC_Update()\n",
    "            \n",
    "    if n >= n_warmup:\n",
    "        config = Configuration(spins, L, J, K, T)\n",
    "        previous_m.insert(0, config.magnetization)\n",
    "        #print(previous_m)\n",
    "        # get rid of furthest previous m\n",
    "        if n >= n_warmup+nt:\n",
    "            previous_m.pop()\n",
    "            #print(previous_m)\n",
    "            av_m += config.magnetization\n",
    "            #print(av_m)\n",
    "            for k in range(nt):\n",
    "                av_correl[k] += previous_m[k] * config.magnetization\n",
    "            #print(av_correl)\n",
    "        \n",
    "av_m  /= float(n_cycles)\n",
    "av_correl /= float(n_cycles)\n"
   ]
  },
  {
   "cell_type": "code",
   "execution_count": 7,
   "id": "3d05bd93",
   "metadata": {},
   "outputs": [
    {
     "name": "stdout",
     "output_type": "stream",
     "text": [
      "Autocorrelation time = 10.039523520528272\n"
     ]
    },
    {
     "data": {
      "text/plain": [
       "Text(0, 0.5, '$\\\\mathcal{C}(t)$')"
      ]
     },
     "execution_count": 7,
     "metadata": {},
     "output_type": "execute_result"
    },
    {
     "data": {
      "image/png": "[encoded data removed]",
      "text/plain": [
       "<Figure size 432x288 with 1 Axes>"
      ]
     },
     "metadata": {
      "needs_background": "light"
     },
     "output_type": "display_data"
    }
   ],
   "source": [
    "from scipy.optimize import curve_fit\n",
    "\n",
    "n_fit_pts = 100\n",
    "xr = np.arange(n_fit_pts, dtype=float)\n",
    "\n",
    "# fit autocorrelation function\n",
    "f = lambda x, a, b: a*np.exp(-x/float(b))\n",
    "a, b = curve_fit(f, xr, (av_correl-av_m**2)[0:n_fit_pts], p0=(1000,1))[0]\n",
    "print(\"Autocorrelation time =\", b)\n",
    "\n",
    "plt.plot(np.log(np.abs(av_correl-av_m**2)), '-ro', lw=2, alpha=0.5)\n",
    "\n",
    "plt.plot(xr, np.log(f(xr, a, b)), 'b-', lw=2)\n",
    "plt.plot([0,100], [0,0], 'k--', lw=2)\n",
    "\n",
    "plt.title(\"Autocorrelation function\", fontsize=25)\n",
    "plt.xlabel(\"$t$\", fontsize=20)\n",
    "plt.ylabel(r\"$\\mathcal{C}(t)$\", fontsize=20)\n",
    "#plt.xlim(0, n_fit_pts+10)"
   ]
  },
  {
   "cell_type": "code",
   "execution_count": 9,
   "id": "0a32c274",
   "metadata": {},
   "outputs": [
    {
     "name": "stdout",
     "output_type": "stream",
     "text": [
      "T = 0.500000 and 7.14 percent done\n",
      "T = 1.000000 and 14.29 percent done\n",
      "T = 1.500000 and 21.43 percent done\n",
      "T = 2.000000 and 28.57 percent done\n",
      "T = 2.100000 and 35.71 percent done\n",
      "T = 2.200000 and 42.86 percent done\n",
      "T = 2.300000 and 50.00 percent done\n",
      "T = 2.400000 and 57.14 percent done\n",
      "T = 2.500000 and 64.29 percent done\n",
      "T = 2.600000 and 71.43 percent done\n",
      "T = 2.700000 and 78.57 percent done\n",
      "T = 2.700000 and 85.71 percent done\n",
      "T = 2.900000 and 92.86 percent done\n",
      "T = 3.100000 and 100.00 percent done\n",
      "time: 892\n"
     ]
    },
    {
     "data": {
      "image/png": "[encoded data removed]",
      "text/plain": [
       "<Figure size 432x288 with 1 Axes>"
      ]
     },
     "metadata": {
      "needs_background": "light"
     },
     "output_type": "display_data"
    }
   ],
   "source": [
    "# Physical Quantity vs Temp\n",
    "\n",
    "## !!! Check the result before believing it! The training is not sufficient.!!!\n",
    "\n",
    "import time\n",
    "# This is a production script, it will save the results in files\n",
    "L = 20\n",
    "J = 1\n",
    "K = 0.2\n",
    "restriction = 10\n",
    "spins = rnd.choice([-1,1],size = (L, L))\n",
    "\n",
    "# set temperature range\n",
    "temp_range = np.hstack([np.arange(0.5,2.0,0.5), np.arange(2.0,2.7,0.1), np.arange(2.7,3.3,0.2)])\n",
    "mag = np.zeros_like(temp_range)\n",
    "energ = np.zeros_like(temp_range)\n",
    "chi = np.zeros_like(temp_range)\n",
    "cv = np.zeros_like(temp_range)\n",
    "\n",
    "time1 = time.time()\n",
    "# lattice size\n",
    "l = [L]\n",
    "for L in l:\n",
    "    for i,T in enumerate(temp_range):\n",
    "    \n",
    "        av_m, av_m2, av_e, av_e2 = 0,0,0,0\n",
    "\n",
    "        n_cycles = 10000\n",
    "        n_warmup = 300\n",
    "\n",
    "        # Monte Carlo\n",
    "        for n in range(n_warmup+n_cycles):\n",
    "            update = RestrictedSelfLearningUpdate(spins, J, K, T, eff_param, restriction)\n",
    "            spins = update.Restricted_SLMC_Update()\n",
    "                \n",
    "            if n >= n_warmup:\n",
    "                config = Configuration(spins, L, J, K, T)\n",
    "                av_e  += config.energy\n",
    "                av_e2 += config.energy**2\n",
    "                av_m  += config.magnetization\n",
    "                av_m2 += config.magnetization**2\n",
    "            \n",
    "        # normalize averages\n",
    "        av_m  /= float(n_cycles)\n",
    "        av_m2 /= float(n_cycles)\n",
    "        av_e  /= float(n_cycles)\n",
    "        av_e2 /= float(n_cycles)\n",
    "            \n",
    "        # get physical quantities\n",
    "        fact = 1./L**2\n",
    "        mag[i] = fact * av_m\n",
    "        energ[i] = fact * av_e\n",
    "        cv[i] = fact * (av_e2 - av_e**2) / T**2\n",
    "        chi[i] = fact * (av_m2 - av_m**2) / T\n",
    "    \n",
    "        # print info because progress can be slow\n",
    "        print(\"T = %f and %.2f percent done\"%(T, (100.*(i+1))/len(temp_range)))\n",
    "\n",
    "\n",
    "    # save quantities in a file\n",
    "    np.savetxt(\"R_SLMC_update_test_energ_%i.dat\"%L, energ)\n",
    "    np.savetxt(\"R_SLMC_update_test_mag_%i.dat\"%L, mag)\n",
    "    np.savetxt(\"R_SLMC_update_test_cv_%i.dat\"%L, cv)\n",
    "    np.savetxt(\"R_SLMC_update_test_chi_%i.dat\"%L, chi)\n",
    "    \n",
    "time2 = time.time()\n",
    "print('time: %i'%(time2-time1))\n",
    "\n",
    "for L in l:\n",
    "    energ = np.loadtxt(\"R_SLMC_update_test_energ_%i.dat\"%L)\n",
    "    mag = np.loadtxt(\"R_SLMC_update_test_mag_%i.dat\"%L)\n",
    "    cv = np.loadtxt(\"R_SLMC_update_test_cv_%i.dat\"%L)\n",
    "    chi = np.loadtxt(\"R_SLMC_update_test_chi_%i.dat\"%L)\n",
    "    \n",
    "    fig = plt.figure()\n",
    "    plt.plot(temp_range, np.loadtxt(\"R_SLMC_update_test_energ_%i.dat\"%L), '-o', label=\"energy\")\n",
    "    plt.plot(temp_range, np.abs(np.loadtxt(\"R_SLMC_update_test_mag_%i.dat\"%L)), '-o', label=\"magnetization\")\n",
    "    plt.plot(temp_range, np.loadtxt(\"R_SLMC_update_test_cv_%i.dat\"%L), '-o', label=\"specific heat\")\n",
    "    plt.plot(temp_range, np.loadtxt(\"R_SLMC_update_test_chi_%i.dat\"%L)/1000, '-o', label=\"susceptibility\")\n",
    "\n",
    "#plt.plot([Tc,Tc], [0,1.6], '--', lw=3)\n",
    "    plt.legend()\n",
    "    plt.title(\"Physical quantities\", fontsize=25)\n",
    "    plt.xlabel(\"$T$\", fontsize=20)\n",
    "    plt.show()"
   ]
  },
  {
   "cell_type": "code",
   "execution_count": null,
   "id": "642f24d4",
   "metadata": {},
   "outputs": [],
   "source": []
  },
  {
   "cell_type": "code",
   "execution_count": null,
   "id": "cf747ade",
   "metadata": {},
   "outputs": [],
   "source": []
  },
  {
   "cell_type": "code",
   "execution_count": null,
   "id": "4e20d142",
   "metadata": {},
   "outputs": [],
   "source": []
  },
  {
   "cell_type": "code",
   "execution_count": null,
   "id": "ccecef13",
   "metadata": {},
   "outputs": [],
   "source": []
  }
 ],
 "metadata": {
  "kernelspec": {
   "display_name": "Python 3",
   "language": "python",
   "name": "python3"
  },
  "language_info": {
   "codemirror_mode": {
    "name": "ipython",
    "version": 3
   },
   "file_extension": ".py",
   "mimetype": "text/x-python",
   "name": "python",
   "nbconvert_exporter": "python",
   "pygments_lexer": "ipython3",
   "version": "3.9.6"
  }
 },
 "nbformat": 4,
 "nbformat_minor": 5
}
