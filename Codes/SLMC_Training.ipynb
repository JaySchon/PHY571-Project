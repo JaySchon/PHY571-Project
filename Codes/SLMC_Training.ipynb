{
 "cells": [
  {
   "cell_type": "code",
   "execution_count": 4,
   "id": "66e684e0",
   "metadata": {},
   "outputs": [],
   "source": [
    "# This file is aimed to test the 2D Ising model with four body interaction terms using SLMC method.\n",
    "\n",
    "#import libraries\n",
    "import numpy as np\n",
    "import numpy.random as rnd\n",
    "import matplotlib.pyplot as plt\n",
    "from Configuration import Configuration\n",
    "from Hamiltonian import first_NN_interaction, second_NN_interaction, third_NN_interaction\n",
    "from LocalUpdate import LocalUpdate\n",
    "from SelfLearningUpdate import SelfLearningUpdate\n",
    "from SLMC_Training_Lib import Make_Samples_Local, Make_Samples_SelfLearning, train_eff_Hamil, self_optimization\n",
    "import itertools\n",
    "from sklearn import linear_model"
   ]
  },
  {
   "cell_type": "code",
   "execution_count": 2,
   "id": "112c2e38",
   "metadata": {},
   "outputs": [],
   "source": [
    "# transfer spins matrix to image \n",
    "def config_to_image(spins):\n",
    "    \"\"\"Turn a spins array into an image\"\"\"\n",
    "    L = len(spins)\n",
    "    im = np.zeros([L,L,3])\n",
    "    for i,j in itertools.product(range(L), repeat=2):\n",
    "        im[i,j,:] = (1,0,0) if spins[i,j]==1 else (0,0,0)\n",
    "    return im"
   ]
  },
  {
   "cell_type": "code",
   "execution_count": 2,
   "id": "b857d4ec",
   "metadata": {},
   "outputs": [
    {
     "name": "stdout",
     "output_type": "stream",
     "text": [
      "Sample 1: 33.33 percent done.\n",
      "Sample 2: 66.67 percent done.\n",
      "Sample 3: 100.00 percent done.\n",
      "[[-206.4, 188, 68, 16], [-191.2, 180, 40, 52], [-178.4, 168, 36, -4]]\n",
      "[53.43157895  1.37368421]\n"
     ]
    }
   ],
   "source": [
    "# T > Tc, train some samples using Local Update Method, T = 5\n",
    "L = 20\n",
    "J = 1.\n",
    "K = 0.2\n",
    "T = 5\n",
    "Nsamples = 3 # modified later\n",
    "Nsteps = 10000 # trail number, modified later\n",
    "n = 1\n",
    "samples = Make_Samples_Local(L, J, K, T, Nsamples, Nsteps)\n",
    "print(samples)\n",
    "eff_param = train_eff_Hamil(samples, n)\n",
    "print(eff_param)"
   ]
  },
  {
   "cell_type": "code",
   "execution_count": 6,
   "id": "30428053",
   "metadata": {},
   "outputs": [
    {
     "name": "stdout",
     "output_type": "stream",
     "text": [
      "Sample 1: 33.33 percent done.\n",
      "Sample 2: 66.67 percent done.\n",
      "Sample 3: 100.00 percent done.\n",
      "[-41.74067373   1.11915224   0.34153528  -0.12123718]\n"
     ]
    }
   ],
   "source": [
    "# T > Tc, train some samples using Local Update Method, T = 5\n",
    "L = 20\n",
    "J = 1.\n",
    "K = 0.2\n",
    "T = 5\n",
    "Nsamples = 3 #modified later\n",
    "Nsteps = 10000 # trail number, modified later\n",
    "n = 3\n",
    "samples = Make_Samples_Local(L, J, K, T, Nsamples, Nsteps)\n",
    "eff_param = train_eff_Hamil(samples, n)\n",
    "print(eff_param)"
   ]
  },
  {
   "cell_type": "code",
   "execution_count": 2,
   "id": "3272f2b2",
   "metadata": {},
   "outputs": [
    {
     "name": "stdout",
     "output_type": "stream",
     "text": [
      "Sample 1: 33.33 percent done.\n",
      "Sample 2: 66.67 percent done.\n",
      "Sample 3: 100.00 percent done.\n",
      "Iteration 1, 100.00 percent done.\n",
      "[-21.36972281   1.03795309]\n"
     ]
    }
   ],
   "source": [
    "# T = Tc, use the effective Hamiltonian to get more samples, and reobtain effective Hamiltonian iteratively.\n",
    "# We will get optimized effective Hamiltonian in the end.\n",
    "eff_param = [53.43157895,  1.37368421]\n",
    "L  = 20\n",
    "J = 1.\n",
    "K = 0.2\n",
    "T = 2.5\n",
    "Nsamples =3 \n",
    "Nsteps = 3000\n",
    "n = 1\n",
    "\n",
    "# Set iteration step\n",
    "Iter = 1 # modified later\n",
    "print(self_optimization(Iter, L, J, K, T, Nsamples, Nsteps, eff_param))"
   ]
  },
  {
   "cell_type": "code",
   "execution_count": null,
   "id": "3a8fc787",
   "metadata": {},
   "outputs": [],
   "source": []
  },
  {
   "cell_type": "code",
   "execution_count": 3,
   "id": "cd8524f6",
   "metadata": {},
   "outputs": [
    {
     "ename": "NameError",
     "evalue": "name 'eff_param' is not defined",
     "output_type": "error",
     "traceback": [
      "\u001b[0;31m---------------------------------------------------------------------------\u001b[0m",
      "\u001b[0;31mNameError\u001b[0m                                 Traceback (most recent call last)",
      "\u001b[0;32m<ipython-input-3-4a0af534b3d3>\u001b[0m in \u001b[0;36m<module>\u001b[0;34m\u001b[0m\n\u001b[1;32m     18\u001b[0m \u001b[0;31m# Monte Carlo\u001b[0m\u001b[0;34m\u001b[0m\u001b[0;34m\u001b[0m\u001b[0;34m\u001b[0m\u001b[0m\n\u001b[1;32m     19\u001b[0m \u001b[0;32mfor\u001b[0m \u001b[0mn\u001b[0m \u001b[0;32min\u001b[0m \u001b[0mrange\u001b[0m\u001b[0;34m(\u001b[0m\u001b[0mn_cycles\u001b[0m\u001b[0;34m)\u001b[0m\u001b[0;34m:\u001b[0m\u001b[0;34m\u001b[0m\u001b[0;34m\u001b[0m\u001b[0m\n\u001b[0;32m---> 20\u001b[0;31m     \u001b[0mupdate\u001b[0m \u001b[0;34m=\u001b[0m \u001b[0mSelfLearningUpdate\u001b[0m\u001b[0;34m(\u001b[0m\u001b[0mspins\u001b[0m\u001b[0;34m,\u001b[0m \u001b[0mJ\u001b[0m\u001b[0;34m,\u001b[0m \u001b[0mK\u001b[0m\u001b[0;34m,\u001b[0m \u001b[0mT\u001b[0m\u001b[0;34m,\u001b[0m \u001b[0meff_param\u001b[0m\u001b[0;34m)\u001b[0m\u001b[0;34m\u001b[0m\u001b[0;34m\u001b[0m\u001b[0m\n\u001b[0m\u001b[1;32m     21\u001b[0m     \u001b[0mspins\u001b[0m \u001b[0;34m=\u001b[0m \u001b[0mupdate\u001b[0m\u001b[0;34m.\u001b[0m\u001b[0mSLMC_Update\u001b[0m\u001b[0;34m(\u001b[0m\u001b[0;34m)\u001b[0m\u001b[0;34m\u001b[0m\u001b[0;34m\u001b[0m\u001b[0m\n\u001b[1;32m     22\u001b[0m     \u001b[0mconfig\u001b[0m \u001b[0;34m=\u001b[0m \u001b[0mConfiguration\u001b[0m\u001b[0;34m(\u001b[0m\u001b[0mspins\u001b[0m\u001b[0;34m,\u001b[0m \u001b[0mL\u001b[0m\u001b[0;34m,\u001b[0m \u001b[0mJ\u001b[0m\u001b[0;34m,\u001b[0m \u001b[0mK\u001b[0m\u001b[0;34m,\u001b[0m \u001b[0mT\u001b[0m\u001b[0;34m)\u001b[0m\u001b[0;34m\u001b[0m\u001b[0;34m\u001b[0m\u001b[0m\n",
      "\u001b[0;31mNameError\u001b[0m: name 'eff_param' is not defined"
     ]
    }
   ],
   "source": [
    "# Use the optimized effective Hamiltonian in SLMC update\n",
    "\n",
    "# Magnetization vs Step\n",
    "L = 20\n",
    "J = 1\n",
    "K = 0.2\n",
    "T = 2.5\n",
    "\n",
    "spins = rnd.choice([-1,1],size = (L, L))\n",
    "\n",
    "import time\n",
    "t1 = time.time()\n",
    "n_cycles = 1000\n",
    "\n",
    "\n",
    "mr = np.zeros(n_cycles)\n",
    "\n",
    "# Monte Carlo\n",
    "for n in range(n_cycles):\n",
    "    update = SelfLearningUpdate(spins, J, K, T, eff_param)\n",
    "    spins = update.SLMC_Update()\n",
    "    config = Configuration(spins, L, J, K, T)\n",
    "    mr[n] = (config.magnetization)\n",
    "mr /= float(L**2)\n",
    "t2 = time.time()\n",
    "\n",
    "print(t2-t1)\n",
    "print(mr)\n",
    "plt.plot(mr, '-')\n",
    "plt.title(\"Magnetization\", fontsize=25)\n",
    "plt.xlabel(\"$t$\", fontsize=20)\n",
    "plt.ylabel(\"$m$\", fontsize=20)\n",
    "plt.ylim(-1,1)"
   ]
  },
  {
   "cell_type": "code",
   "execution_count": 6,
   "id": "14152e34",
   "metadata": {},
   "outputs": [
    {
     "name": "stdout",
     "output_type": "stream",
     "text": [
      "T = 0.500000 and 7.14 percent done\n",
      "T = 1.000000 and 14.29 percent done\n",
      "T = 1.500000 and 21.43 percent done\n",
      "T = 2.000000 and 28.57 percent done\n",
      "T = 2.100000 and 35.71 percent done\n",
      "T = 2.200000 and 42.86 percent done\n",
      "T = 2.300000 and 50.00 percent done\n",
      "T = 2.400000 and 57.14 percent done\n",
      "T = 2.500000 and 64.29 percent done\n",
      "T = 2.600000 and 71.43 percent done\n",
      "T = 2.700000 and 78.57 percent done\n",
      "T = 2.700000 and 85.71 percent done\n",
      "T = 2.900000 and 92.86 percent done\n",
      "T = 3.100000 and 100.00 percent done\n",
      "time: 1356\n"
     ]
    },
    {
     "data": {
      "image/png": "[encoded data removed]",
      "text/plain": [
       "<Figure size 432x288 with 1 Axes>"
      ]
     },
     "metadata": {
      "needs_background": "light"
     },
     "output_type": "display_data"
    }
   ],
   "source": [
    "# Physical Quantity vs Temp\n",
    "\n",
    "## !!! Check the result before believing it! The training is not sufficient.!!!\n",
    "\n",
    "import time\n",
    "# This is a production script, it will save the results in files\n",
    "L = 20\n",
    "J = 1\n",
    "K = 0.2\n",
    "eff_param = [-21.36972281,   1.03795309] #for test only\n",
    "spins = rnd.choice([-1,1],size = (L, L))\n",
    "\n",
    "# set temperature range\n",
    "temp_range = np.hstack([np.arange(0.5,2.0,0.5), np.arange(2.0,2.7,0.1), np.arange(2.7,3.3,0.2)])\n",
    "mag = np.zeros_like(temp_range)\n",
    "energ = np.zeros_like(temp_range)\n",
    "chi = np.zeros_like(temp_range)\n",
    "cv = np.zeros_like(temp_range)\n",
    "\n",
    "time1 = time.time()\n",
    "# lattice size\n",
    "l = [L]\n",
    "for L in l:\n",
    "    for i,T in enumerate(temp_range):\n",
    "    \n",
    "        av_m, av_m2, av_e, av_e2 = 0,0,0,0\n",
    "\n",
    "        n_cycles = 10000\n",
    "        n_warmup = 300\n",
    "\n",
    "        # Monte Carlo\n",
    "        for n in range(n_warmup+n_cycles):\n",
    "            update = SelfLearningUpdate(spins, J, K, T, eff_param)\n",
    "            spins = update.SLMC_Update()\n",
    "                \n",
    "            if n >= n_warmup:\n",
    "                config = Configuration(spins, L, J, K, T)\n",
    "                av_e  += config.energy\n",
    "                av_e2 += config.energy**2\n",
    "                av_m  += config.magnetization\n",
    "                av_m2 += config.magnetization**2\n",
    "            \n",
    "        # normalize averages\n",
    "        av_m  /= float(n_cycles)\n",
    "        av_m2 /= float(n_cycles)\n",
    "        av_e  /= float(n_cycles)\n",
    "        av_e2 /= float(n_cycles)\n",
    "            \n",
    "        # get physical quantities\n",
    "        fact = 1./L**2\n",
    "        mag[i] = fact * av_m\n",
    "        energ[i] = fact * av_e\n",
    "        cv[i] = fact * (av_e2 - av_e**2) / T**2\n",
    "        chi[i] = fact * (av_m2 - av_m**2) / T\n",
    "    \n",
    "        # print info because progress can be slow\n",
    "        print(\"T = %f and %.2f percent done\"%(T, (100.*(i+1))/len(temp_range)))\n",
    "\n",
    "\n",
    "    # save quantities in a file\n",
    "    np.savetxt(\"SLMC_update_test_energ_%i.dat\"%L, energ)\n",
    "    np.savetxt(\"SLMC_update_test_mag_%i.dat\"%L, mag)\n",
    "    np.savetxt(\"SLMC_update_test_cv_%i.dat\"%L, cv)\n",
    "    np.savetxt(\"SLMC_update_test_chi_%i.dat\"%L, chi)\n",
    "    \n",
    "time2 = time.time()\n",
    "print('time: %i'%(time2-time1))\n",
    "\n",
    "for L in l:\n",
    "    energ = np.loadtxt(\"SLMC_update_test_energ_%i.dat\"%L)\n",
    "    mag = np.loadtxt(\"SLMC_update_test_mag_%i.dat\"%L)\n",
    "    cv = np.loadtxt(\"SLMC_update_test_cv_%i.dat\"%L)\n",
    "    chi = np.loadtxt(\"SLMC_update_test_chi_%i.dat\"%L)\n",
    "    \n",
    "    fig = plt.figure()\n",
    "    plt.plot(temp_range, np.loadtxt(\"SLMC_update_test_energ_%i.dat\"%L), '-o', label=\"energy\")\n",
    "    plt.plot(temp_range, np.abs(np.loadtxt(\"SLMC_update_test_mag_%i.dat\"%L)), '-o', label=\"magnetization\")\n",
    "    plt.plot(temp_range, np.loadtxt(\"SLMC_update_test_cv_%i.dat\"%L), '-o', label=\"specific heat\")\n",
    "    plt.plot(temp_range, np.loadtxt(\"SLMC_update_test_chi_%i.dat\"%L)/1000, '-o', label=\"susceptibility\")\n",
    "\n",
    "#plt.plot([Tc,Tc], [0,1.6], '--', lw=3)\n",
    "    plt.legend()\n",
    "    plt.title(\"Physical quantities\", fontsize=25)\n",
    "    plt.xlabel(\"$T$\", fontsize=20)\n",
    "    plt.show()"
   ]
  },
  {
   "cell_type": "code",
   "execution_count": 7,
   "id": "7636061e",
   "metadata": {},
   "outputs": [],
   "source": [
    "# autocorrelation fitting\n",
    "\n",
    "L = 20\n",
    "J = 1\n",
    "K = 0.2\n",
    "T = 2.5\n",
    "\n",
    "nt = 300\n",
    "av_m = 0.0\n",
    "av_correl = np.zeros([nt])\n",
    "previous_m = []\n",
    "\n",
    "n_cycles = 10000\n",
    "n_warmup = 1000\n",
    "\n",
    "# Monte Carlo\n",
    "for n in range(n_cycles + n_warmup + nt):\n",
    "    \n",
    "    update = SelfLearningUpdate(spins, J, K, T, eff_param)\n",
    "    spins = update.SLMC_Update()\n",
    "            \n",
    "    if n >= n_warmup:\n",
    "        config = Configuration(spins, L, J, K, T)\n",
    "        previous_m.insert(0, config.magnetization)\n",
    "        #print(previous_m)\n",
    "        # get rid of furthest previous m\n",
    "        if n >= n_warmup+nt:\n",
    "            previous_m.pop()\n",
    "            #print(previous_m)\n",
    "            av_m += config.magnetization\n",
    "            #print(av_m)\n",
    "            for k in range(nt):\n",
    "                av_correl[k] += previous_m[k] * config.magnetization\n",
    "            #print(av_correl)\n",
    "        \n",
    "av_m  /= float(n_cycles)\n",
    "av_correl /= float(n_cycles)\n"
   ]
  },
  {
   "cell_type": "code",
   "execution_count": 8,
   "id": "27c84203",
   "metadata": {},
   "outputs": [
    {
     "name": "stdout",
     "output_type": "stream",
     "text": [
      "Autocorrelation time = 46.26352507412027\n"
     ]
    },
    {
     "data": {
      "text/plain": [
       "Text(0, 0.5, '$\\\\mathcal{C}(t)$')"
      ]
     },
     "execution_count": 8,
     "metadata": {},
     "output_type": "execute_result"
    },
    {
     "data": {
      "image/png": "[encoded data removed]",
      "text/plain": [
       "<Figure size 432x288 with 1 Axes>"
      ]
     },
     "metadata": {
      "needs_background": "light"
     },
     "output_type": "display_data"
    }
   ],
   "source": [
    "from scipy.optimize import curve_fit\n",
    "\n",
    "n_fit_pts = 100\n",
    "xr = np.arange(n_fit_pts, dtype=float)\n",
    "\n",
    "# fit autocorrelation function\n",
    "f = lambda x, a, b: a*np.exp(-x/float(b))\n",
    "a, b = curve_fit(f, xr, (av_correl-av_m**2)[0:n_fit_pts], p0=(1000,1))[0]\n",
    "print(\"Autocorrelation time =\", b)\n",
    "\n",
    "plt.plot(np.log(np.abs(av_correl-av_m**2)), '-ro', lw=2, alpha=0.5)\n",
    "\n",
    "plt.plot(xr, np.log(f(xr, a, b)), 'b-', lw=2)\n",
    "plt.plot([0,100], [0,0], 'k--', lw=2)\n",
    "\n",
    "plt.title(\"Autocorrelation function\", fontsize=25)\n",
    "plt.xlabel(\"$t$\", fontsize=20)\n",
    "plt.ylabel(r\"$\\mathcal{C}(t)$\", fontsize=20)\n",
    "#plt.xlim(0, n_fit_pts+10)"
   ]
  },
  {
   "cell_type": "code",
   "execution_count": null,
   "id": "90b24351",
   "metadata": {},
   "outputs": [],
   "source": []
  },
  {
   "cell_type": "code",
   "execution_count": null,
   "id": "3b92e207",
   "metadata": {},
   "outputs": [],
   "source": []
  },
  {
   "cell_type": "code",
   "execution_count": null,
   "id": "9077aa99",
   "metadata": {},
   "outputs": [],
   "source": []
  },
  {
   "cell_type": "code",
   "execution_count": null,
   "id": "71ba53bb",
   "metadata": {},
   "outputs": [],
   "source": []
  },
  {
   "cell_type": "code",
   "execution_count": null,
   "id": "120e860a",
   "metadata": {},
   "outputs": [],
   "source": []
  }
 ],
 "metadata": {
  "kernelspec": {
   "display_name": "Python 3",
   "language": "python",
   "name": "python3"
  },
  "language_info": {
   "codemirror_mode": {
    "name": "ipython",
    "version": 3
   },
   "file_extension": ".py",
   "mimetype": "text/x-python",
   "name": "python",
   "nbconvert_exporter": "python",
   "pygments_lexer": "ipython3",
   "version": "3.9.6"
  }
 },
 "nbformat": 4,
 "nbformat_minor": 5
}
